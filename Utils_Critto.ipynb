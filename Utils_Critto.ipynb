{
 "cells": [
  {
   "cell_type": "code",
   "execution_count": 23,
   "metadata": {},
   "outputs": [],
   "source": [
    "import numpy as np\n",
    "import matplotlib.pyplot as plt"
   ]
  },
  {
   "cell_type": "markdown",
   "metadata": {},
   "source": [
    "# Calcolo di una potenza in modulo"
   ]
  },
  {
   "cell_type": "code",
   "execution_count": 142,
   "metadata": {},
   "outputs": [],
   "source": [
    "def mod_pow(b,exp,mod):\n",
    "    start = b\n",
    "    for i in range(1,exp):\n",
    "        start = (start * b) % mod\n",
    "\n",
    "    return start "
   ]
  },
  {
   "cell_type": "code",
   "execution_count": 145,
   "metadata": {},
   "outputs": [
    {
     "data": {
      "text/plain": [
       "1"
      ]
     },
     "execution_count": 145,
     "metadata": {},
     "output_type": "execute_result"
    }
   ],
   "source": [
    "mod_pow(2,10,11)"
   ]
  },
  {
   "cell_type": "markdown",
   "metadata": {},
   "source": [
    "# Ordine di un elemento"
   ]
  },
  {
   "cell_type": "code",
   "execution_count": 155,
   "metadata": {},
   "outputs": [],
   "source": [
    "def get_order(b, mod, show = 0):\n",
    "    start = b\n",
    "    if (show == 1):\n",
    "        list = [b]\n",
    "    for  i in range(2,mod):\n",
    "        start = start*b % mod\n",
    "        if (show == 1):\n",
    "            list.append(start)\n",
    "        if(start == 1):\n",
    "            break\n",
    "    if(show == 1):\n",
    "        return [start, i, list]        \n",
    "    return [start, i]"
   ]
  },
  {
   "cell_type": "code",
   "execution_count": 156,
   "metadata": {},
   "outputs": [
    {
     "data": {
      "text/plain": [
       "[1, 5, [3, 9, 5, 4, 1]]"
      ]
     },
     "execution_count": 156,
     "metadata": {},
     "output_type": "execute_result"
    }
   ],
   "source": [
    "get_order(3,11, show = 1)"
   ]
  },
  {
   "cell_type": "markdown",
   "metadata": {},
   "source": [
    "# Calcolo dell'inverso"
   ]
  },
  {
   "cell_type": "code",
   "execution_count": 36,
   "metadata": {},
   "outputs": [],
   "source": [
    "def inv(n,p):\n",
    "    n = n%p\n",
    "    #Compute inverse of n modulo p\n",
    "    if (np.gcd(n,p) != 1):\n",
    "        print(\"Elemento non invertibile\")\n",
    "        return \n",
    "    else:\n",
    "        for i in range(1,p):\n",
    "            if (n*i)%p == 1:\n",
    "                return i\n",
    "        return NaN"
   ]
  },
  {
   "cell_type": "markdown",
   "metadata": {},
   "source": [
    "# Calcolo di residui quadratici"
   ]
  },
  {
   "cell_type": "code",
   "execution_count": null,
   "metadata": {},
   "outputs": [],
   "source": [
    "def solve_quadratic(M,N):\n",
    "    list = []\n",
    "    for i in range(0,N):\n",
    "        if ((i**2 - M) % N) == 0:\n",
    "            list.append(i)\n",
    "    return list"
   ]
  },
  {
   "cell_type": "code",
   "execution_count": 118,
   "metadata": {},
   "outputs": [
    {
     "data": {
      "text/plain": [
       "[0]"
      ]
     },
     "execution_count": 118,
     "metadata": {},
     "output_type": "execute_result"
    }
   ],
   "source": [
    "solve_quadratic(1,10)"
   ]
  },
  {
   "cell_type": "markdown",
   "metadata": {},
   "source": [
    "# Punti di una curva ellittica"
   ]
  },
  {
   "cell_type": "code",
   "execution_count": 138,
   "metadata": {},
   "outputs": [],
   "source": [
    "def Curve_Points(a,b,p):\n",
    "    list = []\n",
    "    for x in range(0,p):\n",
    "        val = (x**3 + a*x +b) % p\n",
    "        res = solve_quadratic(val,p)\n",
    "        if len(res) != 0:\n",
    "            list.append([x,res[0]])\n",
    "            if len(res) == 2:\n",
    "                list.append([x,res[1]])\n",
    "    list.append([\"inf\", \"inf\"])\n",
    "    return list"
   ]
  },
  {
   "cell_type": "code",
   "execution_count": 141,
   "metadata": {},
   "outputs": [
    {
     "data": {
      "text/plain": [
       "[[1, 5],\n",
       " [1, 12],\n",
       " [2, 7],\n",
       " [2, 10],\n",
       " [3, 0],\n",
       " [5, 8],\n",
       " [5, 9],\n",
       " [6, 6],\n",
       " [6, 11],\n",
       " [8, 3],\n",
       " [8, 14],\n",
       " [10, 2],\n",
       " [10, 15],\n",
       " [12, 1],\n",
       " [12, 16],\n",
       " [15, 4],\n",
       " [15, 13],\n",
       " ['inf', 'inf']]"
      ]
     },
     "execution_count": 141,
     "metadata": {},
     "output_type": "execute_result"
    }
   ],
   "source": [
    "Curve_Points(0,7,17)"
   ]
  },
  {
   "cell_type": "markdown",
   "metadata": {},
   "source": [
    "# Somma su curve ellittiche"
   ]
  },
  {
   "cell_type": "code",
   "execution_count": 98,
   "metadata": {},
   "outputs": [],
   "source": [
    "def sum(P,Q,a,b, mod):\n",
    "   #P,Q: 2-d list, P = [xp,yp]\n",
    "   # a,b: coefficients from y^2 = x^3+ax+b\n",
    "   # mod: modulo for operation\n",
    "\n",
    "   xp = P[0]\n",
    "   xq = Q[0]\n",
    "\n",
    "   yp = P[1]\n",
    "   yq = Q[1]\n",
    "\n",
    "   if (xp == \"inf\"):\n",
    "        return(Q)\n",
    "   elif (xq == \"inf\"):\n",
    "        return(P)\n",
    "\n",
    "   if (((xp**2 + a*xp + b) % mod ) != (yp**2 % mod)):\n",
    "        print(\"P non appartiene alla curva\")\n",
    "        return []\n",
    "   elif (((xq**2 + a*xq + b) % mod ) != (yq**2 % mod)):\n",
    "        print(\"Q non appartiene alla curva\")\n",
    "        return []\n",
    "        \n",
    "   if ((xp == xq) and (yp == yq)):\n",
    "        l = (3*pow(xp,2)+a) % mod\n",
    "        l = l*inv( (2*yp) % mod, mod) % mod\n",
    "   elif ( (xp == xq) and (yp != yq) ):\n",
    "        return [\"inf\",\"inf\"]\n",
    "   else:\n",
    "        l = (yp-yq) % mod\n",
    "        l = l*inv( (xp-xq) % mod, mod) % mod\n",
    "        print(l)\n",
    "   nu = (yp - l*xp) % mod\n",
    "   x3 = (l**2 - xp -xq) % mod\n",
    "   y3 = -(l*x3+nu) % mod\n",
    "   return [x3,y3]"
   ]
  }
 ],
 "metadata": {
  "kernelspec": {
   "display_name": "Python 3",
   "language": "python",
   "name": "python3"
  },
  "language_info": {
   "codemirror_mode": {
    "name": "ipython",
    "version": 3
   },
   "file_extension": ".py",
   "mimetype": "text/x-python",
   "name": "python",
   "nbconvert_exporter": "python",
   "pygments_lexer": "ipython3",
   "version": "3.8.10"
  },
  "orig_nbformat": 4
 },
 "nbformat": 4,
 "nbformat_minor": 2
}
